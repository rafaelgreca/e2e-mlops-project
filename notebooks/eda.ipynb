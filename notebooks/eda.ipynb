{
 "cells": [
  {
   "cell_type": "markdown",
   "metadata": {},
   "source": [
    "## Importing Libraries"
   ]
  },
  {
   "cell_type": "code",
   "execution_count": 1,
   "metadata": {},
   "outputs": [],
   "source": [
    "from pprint import pprint\n",
    "import pandas as pd\n",
    "import boto3\n",
    "import yaml\n",
    "import os\n",
    "import seaborn as sns\n",
    "import matplotlib.pyplot as plt\n",
    "\n",
    "sns.set_style(\"darkgrid\")"
   ]
  },
  {
   "cell_type": "code",
   "execution_count": null,
   "metadata": {},
   "outputs": [],
   "source": [
    "def read_yaml_file(path, file):\n",
    "    # reading credentials files\n",
    "    with open(f\"{os.path.join(path, file)}\") as f:\n",
    "        try:\n",
    "            content = yaml.safe_load(f)\n",
    "        except yaml.YAMLError as e:\n",
    "            raise e\n",
    "\n",
    "    return content\n",
    "\n",
    "\n",
    "CONFIG_PATH = os.path.join(\"..\", \"src\", \"config\")"
   ]
  },
  {
   "cell_type": "code",
   "execution_count": null,
   "metadata": {},
   "outputs": [],
   "source": [
    "credentials_config = read_yaml_file(path=CONFIG_PATH, file=\"credentials.yaml\")\n",
    "\n",
    "general_settings = read_yaml_file(path=CONFIG_PATH, file=\"settings.yaml\")\n",
    "\n",
    "SEED = 42\n",
    "ARTIFACTS_OUTPUT_PATH = general_settings[\"ARTIFACTS_PATH\"]\n",
    "FEATURES_OUTPUT_PATH = general_settings[\"FEATURES_PATH\"]\n",
    "RAW_FILE_PATH = os.path.join(\n",
    "    general_settings[\"DATA_PATH\"], general_settings[\"RAW_FILE_NAME\"]\n",
    ")\n",
    "PROCESSED_RAW_FILE = \"Preprocessed_\" + general_settings[\"RAW_FILE_NAME\"]\n",
    "PROCESSED_RAW_FILE_PATH = os.path.join(\n",
    "    general_settings[\"DATA_PATH\"], PROCESSED_RAW_FILE\n",
    ")"
   ]
  },
  {
   "cell_type": "markdown",
   "metadata": {},
   "source": [
    "## Exploratory Data Analysis (EDA)"
   ]
  },
  {
   "cell_type": "code",
   "execution_count": null,
   "metadata": {},
   "outputs": [],
   "source": [
    "if credentials_config[\"S3\"] != \"YOUR_S3_BUCKET_URL\":\n",
    "    s3 = boto3.client(\n",
    "        \"s3\",\n",
    "        aws_access_key_id=credentials_config[\"AWS_ACCESS_KEY\"],\n",
    "        aws_secret_access_key=credentials_config[\"AWS_SECRET_KEY\"],\n",
    "    )\n",
    "\n",
    "    # downloading the original file from the aws s3 bucket\n",
    "    if not os.path.exists(RAW_FILE_PATH):\n",
    "        s3.download_file(\n",
    "            credentials_config[\"S3\"], general_settings[\"RAW_FILE_NAME\"], RAW_FILE_PATH\n",
    "        )\n",
    "\n",
    "df = pd.read_csv(RAW_FILE_PATH, sep=\",\")\n",
    "pprint(f\"Dataset shape: {df.shape}\")"
   ]
  },
  {
   "cell_type": "code",
   "execution_count": null,
   "metadata": {},
   "outputs": [],
   "source": [
    "df.info()"
   ]
  },
  {
   "cell_type": "code",
   "execution_count": 6,
   "metadata": {},
   "outputs": [],
   "source": [
    "df = df.drop(columns=[\"id\"])"
   ]
  },
  {
   "cell_type": "markdown",
   "metadata": {},
   "source": [
    "### Check Duplicated Rows"
   ]
  },
  {
   "cell_type": "code",
   "execution_count": null,
   "metadata": {},
   "outputs": [],
   "source": [
    "pprint(f\"Number of duplicated rows: {df.duplicated(keep=False).sum()}\")"
   ]
  },
  {
   "cell_type": "code",
   "execution_count": null,
   "metadata": {},
   "outputs": [],
   "source": [
    "df[df.duplicated(keep=False)].sort_values([\"Gender\", \"Age\", \"Height\", \"Weight\"])"
   ]
  },
  {
   "cell_type": "markdown",
   "metadata": {},
   "source": [
    "### Check Label Distribution"
   ]
  },
  {
   "cell_type": "code",
   "execution_count": null,
   "metadata": {},
   "outputs": [],
   "source": [
    "plt.figure(figsize=(6, 6))\n",
    "ax = sns.countplot(\n",
    "    data=df,\n",
    "    x=\"NObeyesdad\",\n",
    "    palette=sns.color_palette(\n",
    "        \"ch:start=.5,rot=-.1\", n_colors=df[\"NObeyesdad\"].nunique()\n",
    "    ),\n",
    ")\n",
    "\n",
    "for i in ax.containers:\n",
    "    ax.bar_label(\n",
    "        i,\n",
    "    )\n",
    "\n",
    "plt.title(\"Label Distribution\")\n",
    "plt.xlabel(\"Label\")\n",
    "plt.ylabel(\"Count\")\n",
    "plt.xticks(rotation=90)\n",
    "plt.show()"
   ]
  },
  {
   "cell_type": "code",
   "execution_count": null,
   "metadata": {},
   "outputs": [],
   "source": [
    "df[\"NObeyesdad\"].value_counts() / df.shape[0]"
   ]
  },
  {
   "cell_type": "markdown",
   "metadata": {},
   "source": [
    "### Checking Columns Type"
   ]
  },
  {
   "cell_type": "code",
   "execution_count": null,
   "metadata": {},
   "outputs": [],
   "source": [
    "target_column = \"NObeyesdad\"\n",
    "categorical_columns = df.select_dtypes(\"object\").columns.tolist()\n",
    "categorical_columns.remove(target_column)\n",
    "numerical_columns = df.select_dtypes(exclude=\"object\").columns.tolist()\n",
    "\n",
    "pprint(f\"Target column: {target_column}\")\n",
    "print()\n",
    "pprint(\n",
    "    f\"{len(categorical_columns)} categorical columns are found. Their names: {categorical_columns}\"\n",
    ")\n",
    "print()\n",
    "pprint(\n",
    "    f\"{len(numerical_columns)} numerical columns are found. Their names: {numerical_columns}\"\n",
    ")\n",
    "print()"
   ]
  },
  {
   "cell_type": "markdown",
   "metadata": {},
   "source": [
    "### Checking NAN values"
   ]
  },
  {
   "cell_type": "code",
   "execution_count": null,
   "metadata": {},
   "outputs": [],
   "source": [
    "null_values_df = df.isnull().sum().reset_index()\n",
    "null_values_df.columns = [\"Variable\", \"Count\"]\n",
    "null_values_df = null_values_df.sort_values(\"Count\", ascending=False)\n",
    "null_values_df = null_values_df[null_values_df[\"Count\"] > 0].reset_index(drop=True)\n",
    "\n",
    "if null_values_df.shape[0] > 0:\n",
    "    plt.figure(figsize=(5, 4))\n",
    "    ax = sns.barplot(data=null_values_df, x=\"Variable\", y=\"Count\")\n",
    "\n",
    "    for i in ax.containers:\n",
    "        ax.bar_label(\n",
    "            i,\n",
    "        )\n",
    "\n",
    "    plt.title(\"Amount of NAN Values per Variable\")\n",
    "    plt.xlabel(\"Variable's Name\")\n",
    "    plt.ylabel(\"NAN Count\")\n",
    "    plt.xticks(rotation=15)\n",
    "    plt.show()\n",
    "else:\n",
    "    pprint(\"No NAN values were found!\\n\")"
   ]
  },
  {
   "cell_type": "markdown",
   "metadata": {},
   "source": [
    "### Checking Numerical Columns Granularity"
   ]
  },
  {
   "cell_type": "code",
   "execution_count": null,
   "metadata": {},
   "outputs": [],
   "source": [
    "numerical_granularity_df = df[numerical_columns].nunique().reset_index()\n",
    "numerical_granularity_df.columns = [\"Variable\", \"Count\"]\n",
    "numerical_granularity_df"
   ]
  },
  {
   "cell_type": "markdown",
   "metadata": {},
   "source": [
    "### Checking Categorical Columns Granularity"
   ]
  },
  {
   "cell_type": "code",
   "execution_count": null,
   "metadata": {},
   "outputs": [],
   "source": [
    "granularity_df = df[categorical_columns].nunique().reset_index()\n",
    "granularity_df.columns = [\"Variable\", \"Count\"]\n",
    "granularity_df = granularity_df.sort_values(\"Count\", ascending=False)\n",
    "granularity_df = granularity_df[granularity_df[\"Count\"] > 0].reset_index(drop=True)\n",
    "\n",
    "plt.figure(figsize=(10, 4))\n",
    "ax = sns.barplot(\n",
    "    data=granularity_df,\n",
    "    x=\"Variable\",\n",
    "    y=\"Count\",\n",
    "    palette=sns.dark_palette(\"#69d\", reverse=False, n_colors=len(categorical_columns)),\n",
    ")\n",
    "\n",
    "for i in ax.containers:\n",
    "    ax.bar_label(\n",
    "        i,\n",
    "    )\n",
    "\n",
    "plt.title(\"Granularity per Variable\")\n",
    "plt.xlabel(\"Variable's Name\")\n",
    "plt.ylabel(\"Unique Values\")\n",
    "plt.xticks(rotation=90)\n",
    "plt.show()"
   ]
  },
  {
   "cell_type": "markdown",
   "metadata": {},
   "source": [
    "### Check Categorical Columns Values Distribution"
   ]
  },
  {
   "cell_type": "code",
   "execution_count": null,
   "metadata": {},
   "outputs": [],
   "source": [
    "nrows = 4\n",
    "ncols = 2\n",
    "\n",
    "fig, axs = plt.subplots(nrows=nrows, ncols=ncols)\n",
    "r, c = 0, 0\n",
    "\n",
    "fig.set_figwidth(10)\n",
    "fig.set_figheight(10)\n",
    "\n",
    "for cc in categorical_columns:\n",
    "    if c == ncols:\n",
    "        c = 0\n",
    "        r += 1\n",
    "\n",
    "    temp = df[cc].value_counts().reset_index()\n",
    "    temp.columns = [\"Value\", \"Count\"]\n",
    "\n",
    "    sns.barplot(\n",
    "        data=temp,\n",
    "        y=\"Value\",\n",
    "        x=\"Count\",\n",
    "        palette=sns.dark_palette(\"#69d\", reverse=True, n_colors=temp.shape[0]),\n",
    "        ax=axs[r, c],\n",
    "        orient=\"h\",\n",
    "    )\n",
    "\n",
    "    for i in axs[r, c].containers:\n",
    "        axs[r, c].bar_label(\n",
    "            i,\n",
    "        )\n",
    "\n",
    "    axs[r, c].set_title(cc)\n",
    "    axs[r, c].set_xlabel(\"\")\n",
    "    axs[r, c].set_ylabel(\"\")\n",
    "\n",
    "    if c == 0:\n",
    "        axs[r, c].set_ylabel(\"Count\")\n",
    "\n",
    "    if (r == nrows - 1) or (r == nrows - 2 and c > 1):\n",
    "        axs[r, c].set_xlabel(\"Value\")\n",
    "\n",
    "    c += 1\n",
    "\n",
    "fig.tight_layout()\n",
    "fig.show()"
   ]
  },
  {
   "cell_type": "markdown",
   "metadata": {},
   "source": [
    "### Check Numerical Columns Distributions"
   ]
  },
  {
   "cell_type": "code",
   "execution_count": null,
   "metadata": {},
   "outputs": [],
   "source": [
    "nrows = 4\n",
    "ncols = 2\n",
    "\n",
    "fig, axs = plt.subplots(nrows=nrows, ncols=ncols)\n",
    "r, c = 0, 0\n",
    "\n",
    "fig.set_figwidth(10)\n",
    "fig.set_figheight(10)\n",
    "\n",
    "for nc in numerical_columns:\n",
    "    if c == ncols:\n",
    "        c = 0\n",
    "        r += 1\n",
    "\n",
    "    sns.histplot(data=df[nc], ax=axs[r, c], kde=True)\n",
    "\n",
    "    axs[r, c].set_title(nc)\n",
    "    axs[r, c].set_xlabel(\"\")\n",
    "    axs[r, c].set_ylabel(\"\")\n",
    "\n",
    "    if c == 0:\n",
    "        axs[r, c].set_ylabel(\"Count\")\n",
    "\n",
    "    if (r == nrows - 1) or (r == nrows - 2 and c > 1):\n",
    "        axs[r, c].set_xlabel(\"Value\")\n",
    "\n",
    "    c += 1\n",
    "\n",
    "fig.tight_layout()\n",
    "fig.show()"
   ]
  },
  {
   "cell_type": "code",
   "execution_count": null,
   "metadata": {},
   "outputs": [],
   "source": [
    "print(\"Numerical Columns skewness:\")\n",
    "pprint(df[numerical_columns].skew())\n",
    "print()\n",
    "\n",
    "print(\"Numerical Columns variation:\")\n",
    "pprint(df[numerical_columns].var())\n",
    "print()\n",
    "\n",
    "print(\"Numerical Columns standard deviation:\")\n",
    "pprint(df[numerical_columns].std())\n",
    "print()"
   ]
  },
  {
   "cell_type": "markdown",
   "metadata": {},
   "source": [
    "### Check Numerical Columns Correlations Between Each Other"
   ]
  },
  {
   "cell_type": "code",
   "execution_count": null,
   "metadata": {},
   "outputs": [],
   "source": [
    "sns.heatmap(data=df[numerical_columns].corr(method=\"spearman\"), fmt=\".2f\", annot=True)"
   ]
  },
  {
   "cell_type": "code",
   "execution_count": null,
   "metadata": {},
   "outputs": [],
   "source": [
    "sns.pairplot(data=df[numerical_columns + [target_column]], hue=target_column)"
   ]
  },
  {
   "cell_type": "code",
   "execution_count": null,
   "metadata": {},
   "outputs": [],
   "source": [
    "lower_target_granularity = {\n",
    "    \"Obesity_Type_I\": \"Obesity\",\n",
    "    \"Obesity_Type_II\": \"Obesity\",\n",
    "    \"Obesity_Type_III\": \"Obesity\",\n",
    "    \"Overweight_Level_I\": \"Overweight\",\n",
    "    \"Overweight_Level_II\": \"Overweight\",\n",
    "}\n",
    "temp = df[numerical_columns + [target_column]].copy()\n",
    "temp[target_column].replace(lower_target_granularity, inplace=True)\n",
    "\n",
    "sns.pairplot(data=temp, hue=target_column)\n",
    "\n",
    "del temp"
   ]
  },
  {
   "cell_type": "markdown",
   "metadata": {},
   "source": [
    "### Check Numerical Columns Outliers"
   ]
  },
  {
   "cell_type": "code",
   "execution_count": null,
   "metadata": {},
   "outputs": [],
   "source": [
    "df.describe()"
   ]
  },
  {
   "cell_type": "code",
   "execution_count": null,
   "metadata": {},
   "outputs": [],
   "source": [
    "nrows = 4\n",
    "ncols = 2\n",
    "\n",
    "fig, axs = plt.subplots(nrows=nrows, ncols=ncols)\n",
    "r, c = 0, 0\n",
    "\n",
    "fig.set_figwidth(10)\n",
    "fig.set_figheight(10)\n",
    "\n",
    "for nc in numerical_columns:\n",
    "    if c == ncols:\n",
    "        c = 0\n",
    "        r += 1\n",
    "\n",
    "    sns.boxplot(data=df[nc], ax=axs[r, c])\n",
    "\n",
    "    axs[r, c].set_title(nc)\n",
    "    axs[r, c].set_xlabel(\"\")\n",
    "    axs[r, c].set_ylabel(\"\")\n",
    "\n",
    "    if c == 0:\n",
    "        axs[r, c].set_ylabel(\"Value\")\n",
    "\n",
    "    c += 1\n",
    "\n",
    "fig.tight_layout()\n",
    "fig.show()"
   ]
  },
  {
   "cell_type": "markdown",
   "metadata": {},
   "source": [
    "### Check Numerical Columns Correlations with the Target Column"
   ]
  },
  {
   "cell_type": "code",
   "execution_count": null,
   "metadata": {},
   "outputs": [],
   "source": [
    "def plot_numerical_column_per_target(column: str, df: pd.DataFrame) -> None:\n",
    "    stats = (\n",
    "        df.groupby(target_column)\n",
    "        .agg(mean=(column, \"mean\"), median=(column, \"median\"), std=(column, \"std\"))\n",
    "        .reset_index()\n",
    "    )\n",
    "\n",
    "    fig, axs = plt.subplots(1, 2)\n",
    "    fig.set_figwidth(8)\n",
    "    fig.set_figwidth(12)\n",
    "\n",
    "    sns.violinplot(\n",
    "        data=df,\n",
    "        x=column,\n",
    "        y=target_column,\n",
    "        hue=target_column,\n",
    "        orient=\"h\",\n",
    "        gridsize=10,\n",
    "        width=0.9,\n",
    "        ax=axs[0],\n",
    "    )\n",
    "    axs[0].legend([], [], frameon=False)\n",
    "    axs[0].set_xlabel(column)\n",
    "    axs[0].set_title(f\"{column} Violin Plot per Target Class\")\n",
    "\n",
    "    sns.barplot(\n",
    "        data=stats,\n",
    "        x=\"mean\",\n",
    "        y=target_column,\n",
    "        orient=\"h\",\n",
    "        palette=sns.dark_palette(\"#69d\", reverse=False, n_colors=stats.shape[0]),\n",
    "        errorbar=\"sd\",\n",
    "        ax=axs[1],\n",
    "    )\n",
    "    axs[1].legend([], [], frameon=False)\n",
    "    axs[1].set_yticklabels([])\n",
    "    axs[1].set_ylabel(\"\")\n",
    "    axs[1].set_xlabel(column)\n",
    "    axs[1].set_title(f\"Mean {column} per Target Class\")\n",
    "\n",
    "    for i in axs[1].containers:\n",
    "        axs[1].bar_label(\n",
    "            i,\n",
    "        )\n",
    "\n",
    "    fig.set_tight_layout(tight=\"w_pad\")\n",
    "    fig.show()\n",
    "\n",
    "\n",
    "def plot_categorical_column_per_target(column: str, df: pd.DataFrame) -> None:\n",
    "    df_gpb = (\n",
    "        df[[column, target_column]].groupby(target_column).value_counts().reset_index()\n",
    "    )\n",
    "    df_pivot = pd.pivot(df_gpb, index=target_column, columns=column, values=0)\n",
    "\n",
    "    plt.figure(figsize=(10, 8))\n",
    "    sns.heatmap(df_pivot, annot=True, fmt=\"g\", cmap=sns.color_palette(\"rocket\"))\n",
    "    plt.show()"
   ]
  },
  {
   "cell_type": "markdown",
   "metadata": {},
   "source": [
    "#### Numerical Columns"
   ]
  },
  {
   "cell_type": "code",
   "execution_count": null,
   "metadata": {},
   "outputs": [],
   "source": [
    "temp = df.sort_values(target_column, ascending=True).reset_index(drop=True).copy()\n",
    "\n",
    "for nm in numerical_columns:\n",
    "    plot_numerical_column_per_target(column=nm, df=temp)"
   ]
  },
  {
   "cell_type": "markdown",
   "metadata": {},
   "source": [
    "#### Categorical Columns"
   ]
  },
  {
   "cell_type": "code",
   "execution_count": null,
   "metadata": {},
   "outputs": [],
   "source": [
    "for cc in categorical_columns:\n",
    "    plot_categorical_column_per_target(column=cc, df=df)"
   ]
  },
  {
   "cell_type": "markdown",
   "metadata": {},
   "source": [
    "### Feature Engineering"
   ]
  },
  {
   "cell_type": "markdown",
   "metadata": {},
   "source": [
    "#### Body Mass Index (BMI)"
   ]
  },
  {
   "cell_type": "code",
   "execution_count": null,
   "metadata": {},
   "outputs": [],
   "source": [
    "df[\"BMI\"] = df[\"Weight\"] / (df[\"Height\"] ** 2)\n",
    "\n",
    "temp = df.sort_values(target_column, ascending=True).reset_index(drop=True).copy()\n",
    "\n",
    "plot_numerical_column_per_target(column=\"BMI\", df=temp)"
   ]
  },
  {
   "cell_type": "markdown",
   "metadata": {},
   "source": [
    "#### Physical Activity Level (PAL)"
   ]
  },
  {
   "cell_type": "code",
   "execution_count": null,
   "metadata": {},
   "outputs": [],
   "source": [
    "df[\"PAL\"] = df[\"FAF\"] - df[\"TUE\"]\n",
    "\n",
    "temp = df.sort_values(target_column, ascending=True).reset_index(drop=True).copy()\n",
    "\n",
    "plot_numerical_column_per_target(column=\"PAL\", df=temp)"
   ]
  },
  {
   "cell_type": "markdown",
   "metadata": {},
   "source": [
    "#### Body Surface Area (BSA)"
   ]
  },
  {
   "cell_type": "code",
   "execution_count": null,
   "metadata": {},
   "outputs": [],
   "source": [
    "def calculate_bsa(gender: str, height: float, weight: float) -> float:\n",
    "    # Schlich formula\n",
    "    if gender == \"Female\":\n",
    "        return 0.000975482 * (weight**0.46) * (height**1.08)\n",
    "\n",
    "    return 0.000579479 * (weight**0.38) * (height**1.24)\n",
    "\n",
    "\n",
    "df[\"BSA\"] = df.apply(\n",
    "    lambda x: calculate_bsa(x[\"Gender\"], x[\"Height\"], x[\"Weight\"]), axis=1\n",
    ")\n",
    "\n",
    "temp = df.sort_values(target_column, ascending=True).reset_index(drop=True).copy()\n",
    "\n",
    "plot_numerical_column_per_target(column=\"BSA\", df=temp)"
   ]
  },
  {
   "cell_type": "markdown",
   "metadata": {},
   "source": [
    "#### Ideal Body Weight (IBW)"
   ]
  },
  {
   "cell_type": "code",
   "execution_count": null,
   "metadata": {},
   "outputs": [],
   "source": [
    "def calculate_ibw(gender: str, height: float) -> float:\n",
    "    # b. j. devine formula\n",
    "    if gender == \"Female\":\n",
    "        return 45.5 + 0.9 * (height - 152)\n",
    "\n",
    "    return 50 + 0.9 * (height - 152)\n",
    "\n",
    "\n",
    "df[\"IBW\"] = df.apply(lambda x: calculate_ibw(x[\"Gender\"], x[\"Height\"]), axis=1)\n",
    "df[\"diff_W_IBW\"] = df[\"Weight\"] - df[\"IBW\"]\n",
    "\n",
    "temp = df.sort_values(target_column, ascending=True).reset_index(drop=True).copy()\n",
    "\n",
    "plot_numerical_column_per_target(column=\"diff_W_IBW\", df=temp)"
   ]
  },
  {
   "cell_type": "markdown",
   "metadata": {},
   "source": [
    "#### Basal Metabolic Rate (BMR)"
   ]
  },
  {
   "cell_type": "code",
   "execution_count": null,
   "metadata": {},
   "outputs": [],
   "source": [
    "def calculate_bmr(age: int, gender: str, height: float, weight: float) -> float:\n",
    "    s = -161 if gender == \"Female\" else 5\n",
    "    return (10 * weight) + (6.25 * height) - (5 * age) + s\n",
    "\n",
    "\n",
    "df[\"BMR\"] = df.apply(\n",
    "    lambda x: calculate_bmr(x[\"Age\"], x[\"Gender\"], x[\"Height\"], x[\"Weight\"]), axis=1\n",
    ")\n",
    "\n",
    "temp = df.sort_values(target_column, ascending=True).reset_index(drop=True).copy()\n",
    "\n",
    "plot_numerical_column_per_target(column=\"BMR\", df=temp)"
   ]
  },
  {
   "cell_type": "markdown",
   "metadata": {},
   "source": [
    "#### Total Daily Energy Expenditure (TDEE)"
   ]
  },
  {
   "cell_type": "code",
   "execution_count": null,
   "metadata": {},
   "outputs": [],
   "source": [
    "def calculate_tdee(bmr: float, activity: float) -> float:\n",
    "    if activity == 0:\n",
    "        return bmr * 1.2\n",
    "    elif activity < 1:\n",
    "        return bmr * 1.55\n",
    "    elif activity > 1 and activity <= 2:\n",
    "        return bmr * 1.725\n",
    "    else:\n",
    "        return bmr * 1.9\n",
    "\n",
    "\n",
    "df[\"TDEE\"] = df.apply(lambda x: calculate_tdee(x[\"BMR\"], x[\"FAF\"]), axis=1)\n",
    "\n",
    "temp = df.sort_values(target_column, ascending=True).reset_index(drop=True).copy()\n",
    "\n",
    "plot_numerical_column_per_target(column=\"TDEE\", df=temp)"
   ]
  },
  {
   "cell_type": "markdown",
   "metadata": {},
   "source": [
    "#### Sufficient Water Consumption (SWC)"
   ]
  },
  {
   "cell_type": "code",
   "execution_count": null,
   "metadata": {},
   "outputs": [],
   "source": [
    "df[\"SWC\"] = df[\"CH2O\"] > ((df[\"Weight\"] / 2) * 0.0295735)\n",
    "\n",
    "plot_categorical_column_per_target(column=\"SWC\", df=df)"
   ]
  },
  {
   "cell_type": "markdown",
   "metadata": {},
   "source": [
    "#### Is Sedentary? (IS)"
   ]
  },
  {
   "cell_type": "code",
   "execution_count": null,
   "metadata": {},
   "outputs": [],
   "source": [
    "df[\"IS\"] = df[\"FAF\"] <= 1\n",
    "\n",
    "plot_categorical_column_per_target(column=\"IS\", df=df)"
   ]
  },
  {
   "cell_type": "markdown",
   "metadata": {},
   "source": [
    "#### Healthy Habits (HH)"
   ]
  },
  {
   "cell_type": "code",
   "execution_count": null,
   "metadata": {},
   "outputs": [],
   "source": [
    "def calculate_healthy_habits(row: pd.DataFrame) -> float:\n",
    "    eat_healthy = -1 if (row[\"FCVC\"] * row[\"NCP\"]) < 3 else 1\n",
    "    is_sedentary = -1 if row[\"FAF\"] <= 1 else 1\n",
    "    is_smoker = -1 if row[\"SMOKE\"] == \"yes\" else 1\n",
    "    sufficient_water_consumption = (\n",
    "        -1 if (row[\"CH2O\"] < ((row[\"Weight\"] / 2) * 0.0295735)) else 1\n",
    "    )\n",
    "    drink_frequently = (\n",
    "        -1 if (row[\"CALC\"] == \"Always\" or row[\"CALC\"] == \"Frequently\") else 1\n",
    "    )\n",
    "    active_person = -1 if (row[\"TUE\"] - row[\"FAF\"]) > 0 else 1\n",
    "    is_overweight = -1 if (row[\"Height\"] - row[\"IBW\"]) > 0 else 1\n",
    "\n",
    "    return (\n",
    "        eat_healthy\n",
    "        + is_sedentary\n",
    "        + is_smoker\n",
    "        + sufficient_water_consumption\n",
    "        + drink_frequently\n",
    "        + active_person\n",
    "        + is_overweight\n",
    "    )\n",
    "\n",
    "\n",
    "df[\"HH\"] = df.apply(lambda x: calculate_healthy_habits(x), axis=1)\n",
    "\n",
    "temp = df.sort_values(target_column, ascending=True).reset_index(drop=True).copy()\n",
    "\n",
    "plot_numerical_column_per_target(column=\"HH\", df=temp)"
   ]
  },
  {
   "cell_type": "markdown",
   "metadata": {},
   "source": [
    "#### Ideal Number of Main Meals? (INMM)"
   ]
  },
  {
   "cell_type": "code",
   "execution_count": null,
   "metadata": {},
   "outputs": [],
   "source": [
    "df[\"INMM\"] = df[\"NCP\"] == 3\n",
    "\n",
    "plot_categorical_column_per_target(column=\"INMM\", df=df)"
   ]
  },
  {
   "cell_type": "markdown",
   "metadata": {},
   "source": [
    "#### Eat Vegetables Every Main Meal? (EVEMM)"
   ]
  },
  {
   "cell_type": "code",
   "execution_count": null,
   "metadata": {},
   "outputs": [],
   "source": [
    "df[\"EVEMM\"] = df[\"FCVC\"] >= df[\"NCP\"]\n",
    "\n",
    "plot_categorical_column_per_target(column=\"EVEMM\", df=df)"
   ]
  },
  {
   "cell_type": "code",
   "execution_count": 37,
   "metadata": {},
   "outputs": [],
   "source": [
    "## removing downloaded dataset from local\n",
    "if credentials_config[\"S3\"] != \"YOUR_S3_BUCKET_URL\":\n",
    "    os.remove(RAW_FILE_PATH)"
   ]
  }
 ],
 "metadata": {
  "kernelspec": {
   "display_name": "_dev",
   "language": "python",
   "name": "python3"
  },
  "language_info": {
   "codemirror_mode": {
    "name": "ipython",
    "version": 3
   },
   "file_extension": ".py",
   "mimetype": "text/x-python",
   "name": "python",
   "nbconvert_exporter": "python",
   "pygments_lexer": "ipython3",
   "version": "3.9.21"
  }
 },
 "nbformat": 4,
 "nbformat_minor": 2
}
